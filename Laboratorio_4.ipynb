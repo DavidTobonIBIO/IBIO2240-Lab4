{
  "cells": [
    {
      "cell_type": "markdown",
      "metadata": {
        "id": "aiVyYM0UZ9Cg"
      },
      "source": [
        "# **Laboratorio 4: Métodos de aproximación**\n",
        "**Facultad de ingeniería, departamento de Ingeniería Biomédica, Universidad de los Andes**\\\n",
        "**IBIO-2440 Programación científica**"
      ]
    },
    {
      "cell_type": "markdown",
      "metadata": {
        "id": "aTJOo3lnar5X"
      },
      "source": [
        "**Nombres de los integrantes**\n",
        "\n",
        "\n",
        "1.   Nombre integrante 1\n",
        "2.   Nombre integrante 2\n",
        "\n",
        "**Número del grupo**\n",
        "\n",
        "*Escribir el número del grupo*\n"
      ]
    },
    {
      "cell_type": "markdown",
      "metadata": {
        "id": "OambcLreVN_P"
      },
      "source": [
        "Los métodos de aproximación numéricos permiten modelar diversos escenarios matemáticos y físicos cuyas ecuaciones constitutivas tienen una complejidad tan elevada que no es posible alcanzar una solución analítica. Existe una infinidad de métodos numéricos para aproximar diferentes situaciones. Sin embargo, en este laboratorio se trabaja con la linealización de una función no lineal. La linealización permite resolver sistemas de ecuaciones algebráicas, diferenciales o una combinación de ambas, por lo que tiene una utilidad potencial en la ingeniería. Este proceso está presente en el estudio de sistemas dinámicos, métodos de elementos finitos, diferencias finitas, optimización, machine learning, entre muchas otras más. \\\n",
        "\n",
        "En este sentido, el laboratorio se divide en dos partes, una donde se debe crear un algoritmo de aproximación del gradiente, y otra donde se usa la serie de Taylor multivariable para linealizar alrededor de un punto."
      ]
    },
    {
      "cell_type": "markdown",
      "metadata": {
        "id": "9MZHCvebU8e9"
      },
      "source": [
        "# **Aproximación del gradiente**\n",
        "\n",
        "Para introducir el algoritmo que se debe usar, hay que recordar un poco la teoría. Sea $f$ una función $f:\\mathbb{R}\\rightarrow\\mathbb{R}$, la derivada de esta función se define como:\n",
        "\n",
        "\\begin{align*}\n",
        " \\frac{df}{dx} =  \\lim_{h\\to 0} \\frac{f(x+h)-f(x)}{h}\n",
        "\\end{align*}\n",
        "\n",
        "Ahora, si se desea evaluar la derivada de $f$ en un punto concreto $x^*$, queda:\n",
        "\n",
        "\\begin{align*}\n",
        "\\left. \\frac{df}{dx} \\right|_{x^*}=  \\lim_{h\\to 0} \\frac{f(x^*+h)-f(x^*)}{h}\n",
        "\\end{align*}\n",
        "\n",
        "El problema es que el computador no puede entender un límite, por lo que hay que hacer una aproximación. Hay que definir un ϵ muy pequeño para modelar la división por cero. Luego, la derivada numérica queda de la forma:\n",
        "\n",
        "\\begin{align*}\n",
        " \\left.\\frac{df}{dx}\\right|_{x^*} \\approx  \\frac{f(x^*+ϵ)-f(x^*)}{ϵ}\n",
        "\\end{align*}\n",
        "\n",
        "Ahora, si se desea generalizar esta aproximación para el gradiente de una función $f:\\mathbb{R^n}→\\mathbb{R}$, se debe calcular la derivada parcial con respecto a cada variable. En este sentido, se define $X$ como el vector de variables independientes $X^*=[x_1^*,x_2^*, ..., x_n^*]^T$, luego, el gradiente queda de la forma:\n",
        "\n",
        "\\begin{align*}\n",
        "  ∇f(X)= \\left [\\frac{∂f}{∂x_1} , \\frac{∂f}{∂x_2}, ..., \\frac{∂f}{∂x_n}\\right]^T\n",
        "\\end{align*}\n",
        "\n",
        "Luego, aproximar el gradiente es aproximar $n$ derivadas ordinarias. Ahora, si se quiere encontrar el gradiente en un punto $X^*=[x_1^*,x_2^*, ..., x_n^*]^T$, quedaría:\n",
        "\n",
        "\\begin{align*}\n",
        "  ∇f(X^*)= \\left [  \\left. \\frac{∂f}{∂x_1} \\right|_{X^*}, \\left.\\frac{∂f}{∂x_2}\\right|_{X^*} , ...,  \\left.\\frac{∂f}{∂x_n} \\right|_{X^*}\\right]^T\n",
        "\\end{align*}\n",
        "\n",
        "La idea de este laboratorio es que realice un algoritmo que permita aproximar el gradiente mediante la derivada central alrededor de un punto $X^*$ de una función con un contexto biomédico, la cual es:\n",
        "\n",
        "\n",
        "- **Aneurisma aórtico:** sa trata de un coágulo en la arteria aorta que obstruye el flujo sanguíneo. Es posible modelar las lineas de corriente de la sangre alrededor del coágulo modelado como un cuerpo de Rankine cilíndrico mediante la función de corriente:\n",
        "\n",
        "\\begin{align*}\n",
        "  \\psi(x,y) = \\frac{4}{5}\\sqrt{x^2+y^2}\\left( 1- \\frac{1}{x^2+y^2} \\right)\\sin \\left[\\tan^{-1}\\left (\\frac{y}{x}\\right ) \\right]\n",
        "\\end{align*}\n",
        "\n",
        " Para esto, debe seguir los siguientes pasos:\n",
        "\n",
        "1. Lea la documentación sobre la libería Sympy en el siguiente enlace: https://docs.sympy.org/latest/tutorials/intro-tutorial/basic_operations.html, además, importela.\n"
      ]
    },
    {
      "cell_type": "code",
      "execution_count": 29,
      "metadata": {
        "id": "JhTOd9vqfA1H"
      },
      "outputs": [],
      "source": [
        "from sympy import *\n",
        "import numpy as np\n",
        "import matplotlib.pyplot as plt\n"
      ]
    },
    {
      "cell_type": "markdown",
      "metadata": {
        "id": "9-m0iVC9b6ow"
      },
      "source": [
        "2. Definir las varibales $x$ y $y$ como variables simbólicas. "
      ]
    },
    {
      "cell_type": "code",
      "execution_count": 30,
      "metadata": {
        "id": "sUYpQ3XccAKa"
      },
      "outputs": [],
      "source": [
        "x, y = symbols(\"x y\")"
      ]
    },
    {
      "cell_type": "markdown",
      "metadata": {
        "id": "8HixHud9cAmX"
      },
      "source": [
        "3. Establecer los valores $ϵ=0.001$ y $(x^*,y^*)^T=(\\frac{1}{2}, -\\frac{1}{2})^T$\n"
      ]
    },
    {
      "cell_type": "code",
      "execution_count": 31,
      "metadata": {
        "id": "717p2XTmdbn0"
      },
      "outputs": [],
      "source": [
        "epsilon = 0.0001\n",
        "x1 = 1/2\n",
        "y1 = -1/2\n"
      ]
    },
    {
      "cell_type": "markdown",
      "metadata": {
        "id": "Cw6CtkGV5UXR"
      },
      "source": [
        "4. Mediante el uso de la librería Sympy, encuentre las derivadas parciales con respecto a $x$ y $y$ y evalúelas en los puntos mencionados. (**Ayuda:** use la función subs de la librería Sympy)"
      ]
    },
    {
      "cell_type": "code",
      "execution_count": 32,
      "metadata": {
        "id": "2inNpNn75soh"
      },
      "outputs": [
        {
          "name": "stdout",
          "output_type": "stream",
          "text": [
            "Derivada respecto a x evaluada en (x*,y*):  -1.60000000000000\n",
            "Derivada respecto a y evaluada en (x*,y*):  0.800000000000000\n"
          ]
        }
      ],
      "source": [
        "function = 4/5*(sqrt(x**2+y**2))*(1-1/(x**2+y**2))*(sin(atan(y/x)))\n",
        "diff_x = diff(function, x)\n",
        "diff_y = diff(function, y)\n",
        "sub_x = diff_x.subs([(x,x1),(y,y1)])\n",
        "sub_y = diff_y.subs([(x,x1),(y,y1)])\n",
        "print(\"Derivada respecto a x evaluada en (x*,y*): \", sub_x)\n",
        "print(\"Derivada respecto a y evaluada en (x*,y*): \", sub_y)"
      ]
    },
    {
      "cell_type": "markdown",
      "metadata": {
        "id": "MHy6Kuhc5tIp"
      },
      "source": [
        "5. Mediante la aproximación de la derivada, encuentre las derivadas parciales de la función alrededor de los puntos mencionados."
      ]
    },
    {
      "cell_type": "code",
      "execution_count": 35,
      "metadata": {
        "id": "c2IZ6NtB7FYX"
      },
      "outputs": [
        {
          "name": "stdout",
          "output_type": "stream",
          "text": [
            "Aproximación de la derivada respecto a x evaluada en (x*,y*):  -1.59984000000168\n",
            "Aproximación de la derivada respecto a y evaluada en (x*,y*):  0.799839967996832\n"
          ]
        }
      ],
      "source": [
        "aproxi_x= (function.subs(x,x1+epsilon)-function.subs(x,x1))/epsilon\n",
        "aproxi_x_final = aproxi_x.subs(y,y1)\n",
        "aproxi_y= (function.subs(y,y1+epsilon)-function.subs(y,y1))/epsilon\n",
        "aproxi_y_final = aproxi_y.subs(x,x1)\n",
        "print(\"Aproximación de la derivada respecto a x evaluada en (x*,y*): \", aproxi_x_final)\n",
        "print(\"Aproximación de la derivada respecto a y evaluada en (x*,y*): \", aproxi_y_final)\n"
      ]
    },
    {
      "cell_type": "markdown",
      "metadata": {
        "id": "qvWwI5qT-9wt"
      },
      "source": [
        "6. Compare los resultados, ¿cuál es el error porcentual entre la derivada analítica y la numérica?\n",
        "\n",
        "Recuerde que el error porcentual es de la forma:\n",
        "\n",
        "\\begin{align*}\n",
        "  Error =  100\\frac{|Estimado - Analítico|}{Analítico}\n",
        "\\end{align*}"
      ]
    },
    {
      "cell_type": "code",
      "execution_count": 39,
      "metadata": {
        "id": "1VrFvoUw_FSL"
      },
      "outputs": [
        {
          "name": "stdout",
          "output_type": "stream",
          "text": [
            "El error entre las dos derivadas es 0.00999999989520494 %\n"
          ]
        }
      ],
      "source": [
        "error = (abs((aproxi_x_final-sub_x)/sub_x))*100\n",
        "print(\"El error entre las dos derivadas es\",error,\"%\")"
      ]
    },
    {
      "cell_type": "markdown",
      "metadata": {
        "id": "2adhIX1F8yCB"
      },
      "source": [
        "# **Linealización de una función**\n",
        "\n",
        "En esta parte debe usar el algoritmo creado en la parte anterior para linealizar una función no lineal alrededor de un punto en concreto. Para esto, primero que que recordar la teoría de linealización, la cual se lleva a cabo mediante la serie de Taylor truncada:\n",
        "\n",
        "- **Una dimensión**\n",
        "\n",
        "\\begin{align*}\n",
        "  f(x) \\approx f(x^*) + \\left .\\frac{df}{dx} \\right|_{x^*} (x-x^*)\n",
        "\\end{align*}\n",
        "\n",
        "- **Multivariable**\n",
        "\n",
        "\\begin{align*}\n",
        "  f(X) \\approx f(X^*) +∇f(X^*)^T (X-X^*)\n",
        "\\end{align*}\n",
        "\n",
        "  Con $X=[x_1,x_2, ..., x_n]^T$ y $X^*=[x_1^*,x_2^*, ..., x_n^*]^T$\n",
        "\n",
        "Para esto, debe seguir los siguientes pasos:\n",
        "\n",
        "1. Defina ahora las variables como arreglos numéricos. Tanto $x$ como $y$ debe variar entre -1 a 1 **(ojo: no incluya el cero en los arreglos o puede producir errores)**"
      ]
    },
    {
      "cell_type": "code",
      "execution_count": null,
      "metadata": {
        "id": "RO8JOzJD_zCs"
      },
      "outputs": [],
      "source": []
    },
    {
      "cell_type": "markdown",
      "metadata": {
        "id": "N-TxYjHS_zST"
      },
      "source": [
        "2. Sustituya los valores de los arreglos en las variables (Use *subs* de Sympy)"
      ]
    },
    {
      "cell_type": "code",
      "execution_count": null,
      "metadata": {
        "id": "PBbhFB8R_-FG"
      },
      "outputs": [],
      "source": []
    },
    {
      "cell_type": "markdown",
      "metadata": {
        "id": "Z__eo5iY_-QV"
      },
      "source": [
        "3. Con la aproximación de la serie Taylor truncada linealice la función alrededor de los puntos mencionados (use los valores de las derivadas numéricas halladas para las derivadas parciales en la parte anterior)"
      ]
    },
    {
      "cell_type": "code",
      "execution_count": null,
      "metadata": {
        "id": "wofSjuvlASM0"
      },
      "outputs": [],
      "source": []
    },
    {
      "cell_type": "markdown",
      "metadata": {
        "id": "IyEQDG-9ASkY"
      },
      "source": [
        "4. Grafique la superficie de la función analítica junto a la aproximación lineal. Agregue título, labels y leyendas."
      ]
    },
    {
      "cell_type": "code",
      "execution_count": null,
      "metadata": {
        "id": "Pa-l-zRiA1U1"
      },
      "outputs": [],
      "source": []
    },
    {
      "cell_type": "markdown",
      "metadata": {
        "id": "mdYUD9IoA1jN"
      },
      "source": [
        "5. Grafique el error porcentual entre la función analítica y la aproximación lineal de la siguiente forma. Incluya título, labels y leyendas."
      ]
    },
    {
      "cell_type": "code",
      "execution_count": null,
      "metadata": {
        "id": "SmUD-Pb9BfrE"
      },
      "outputs": [],
      "source": []
    }
  ],
  "metadata": {
    "colab": {
      "provenance": []
    },
    "kernelspec": {
      "display_name": "Python 3",
      "language": "python",
      "name": "python3"
    },
    "language_info": {
      "name": "python",
      "version": "3.11.1"
    },
    "vscode": {
      "interpreter": {
        "hash": "6a2a0214d38df7dcc88d60fd0083ce83592ef4b41f72cfba9b9d75b1af5e7e91"
      }
    }
  },
  "nbformat": 4,
  "nbformat_minor": 0
}
